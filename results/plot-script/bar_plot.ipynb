{
 "cells": [
  {
   "cell_type": "markdown",
   "metadata": {},
   "source": [
    "# Incrementation without caching"
   ]
  },
  {
   "cell_type": "code",
   "execution_count": null,
   "metadata": {},
   "outputs": [],
   "source": [
    "nb_bench = 2\n",
    "col_name = ['func', 'start', 'end', 'filename', 'worker', 'thread', 'process']"
   ]
  },
  {
   "cell_type": "code",
   "execution_count": null,
   "metadata": {},
   "outputs": [],
   "source": [
    "from math import sqrt\n",
    "import os\n",
    "\n",
    "import numpy as np\n",
    "import matplotlib.pyplot as plt\n",
    "import pandas as pd\n",
    "\n",
    "def plot_results(exp_names, xlabel, xticks_label, plot_title):\n",
    "    ## Path to result file\n",
    "    spark_file = '../data-{}/results-spark_inc-{}.csv'\n",
    "    dask_bag_file = '../data-{}/results-dask-bag_inc-{}.csv'\n",
    "    dask_delayed_file = '../data-{}/results-dask-delayed_inc-{}.csv'\n",
    "    dask_futures_file = '../data-{}/results-dask-futures_inc-{}.csv'\n",
    "\n",
    "    # Retrieve file name\n",
    "    spark = [[pd.read_csv(spark_file.format(nth_bench, exp_name), names=col_name).end.max()\n",
    "              if os.path.exists(spark_file.format(nth_bench, exp_name)) else 0\n",
    "                  for nth_bench in range(1, nb_bench+1)] \n",
    "             for exp_name in exp_names]\n",
    "\n",
    "    dask_bag = [[pd.read_csv(dask_bag_file.format(nth_bench, exp_name), names=col_name).end.max()\n",
    "                 if os.path.exists(dask_bag_file.format(nth_bench, exp_name)) else 0\n",
    "                  for nth_bench in range(1, nb_bench+1)] \n",
    "             for exp_name in exp_names]\n",
    "\n",
    "    dask_delayed = [[pd.read_csv(dask_delayed_file.format(nth_bench, exp_name), names=col_name).end.max()\n",
    "                     if os.path.exists(dask_delayed_file.format(nth_bench, exp_name)) else 0\n",
    "                  for nth_bench in range(1, nb_bench+1)] \n",
    "             for exp_name in exp_names]\n",
    "\n",
    "    dask_futures = [[pd.read_csv(dask_futures_file.format(nth_bench, exp_name), names=col_name).end.max()\n",
    "                     if os.path.exists(dask_futures_file.format(nth_bench, exp_name)) else 0\n",
    "                  for nth_bench in range(1, nb_bench+1)] \n",
    "             for exp_name in exp_names]\n",
    "\n",
    "    # Calculate statistics\n",
    "    spark_stat = {'mean': list(map(np.mean, spark)), 'std': list(map(sqrt, map(np.std, spark)))}\n",
    "    dask_bag_stat = {'mean': list(map(np.mean, dask_bag)), 'std': list(map(sqrt, map(np.std, dask_bag)))}\n",
    "    dask_delayed_stat = {'mean': list(map(np.mean, dask_delayed)), 'std': list(map(sqrt, map(np.std, dask_delayed)))}\n",
    "    dask_futures_stat = {'mean': list(map(np.mean, dask_futures)), 'std': list(map(sqrt, map(np.std, dask_futures)))}\n",
    "\n",
    "    # Generate plot\n",
    "    fig,ax=plt.subplots(figsize=(10,5))\n",
    "\n",
    "    barWidth = 0.15\n",
    "\n",
    "    # Set position of bar on X axis\n",
    "    r1 = np.arange(len(spark))\n",
    "    r2 = [x + barWidth for x in r1]\n",
    "    r3 = [x + barWidth for x in r2]\n",
    "    r4 = [x + barWidth for x in r3]\n",
    "\n",
    "    plt.bar(r1, spark_stat['mean'], yerr=spark_stat['std'], color='blue', width=barWidth, edgecolor='black', label='spark')\n",
    "    plt.bar(r2, dask_bag_stat['mean'], yerr=dask_bag_stat['std'], color='crimson', width=barWidth, edgecolor='black', label='dask_bag')\n",
    "    plt.bar(r3, dask_delayed_stat['mean'], yerr=dask_delayed_stat['std'], color='orange', width=barWidth, edgecolor='black', label='dask_delayed')\n",
    "    plt.bar(r4, dask_futures_stat['mean'], yerr=dask_futures_stat['std'], color='purple', width=barWidth, edgecolor='black', label='dask_futures')\n",
    "\n",
    "    # Add xticks on the middle of the group bars\n",
    "    plt.xlabel(xlabel, fontweight='bold')\n",
    "    plt.xticks([r + barWidth for r in range(len(spark))], xticks_label)\n",
    "    plt.ylabel('Makespan')\n",
    "\n",
    "    plt.title(plot_title)\n",
    "    plt.legend()\n",
    "    plt.show()"
   ]
  },
  {
   "cell_type": "code",
   "execution_count": null,
   "metadata": {},
   "outputs": [],
   "source": [
    "exp_names = ['1node', '2node', '4node', 'baseline', '16node']\n",
    "xlabel = '# of nodes'\n",
    "xticks_label = ['1', '2', '4', '8', '16']\n",
    "plot_title = '# of nodes'\n",
    "\n",
    "plot_results(exp_names, xlabel, xticks_label, plot_title)"
   ]
  },
  {
   "cell_type": "code",
   "execution_count": null,
   "metadata": {},
   "outputs": [],
   "source": [
    "exp_names = ['1itr', 'baseline', '100itr']\n",
    "xlabel = '# of iterations'\n",
    "xticks_label = ['1', '10', '100']\n",
    "plot_title = '# of iterations'\n",
    "\n",
    "plot_results(exp_names, xlabel, xticks_label, plot_title)"
   ]
  },
  {
   "cell_type": "code",
   "execution_count": null,
   "metadata": {},
   "outputs": [],
   "source": [
    "exp_names = ['1delay', 'baseline', '16delay', '64delay']\n",
    "xlabel = 'Sleep time (s)'\n",
    "xticks_label = ['1', '4', '16', '64']\n",
    "plot_title = 'Sleep time (s)'\n",
    "\n",
    "plot_results(exp_names, xlabel, xticks_label, plot_title)"
   ]
  },
  {
   "cell_type": "code",
   "execution_count": null,
   "metadata": {},
   "outputs": [],
   "source": [
    "exp_names = ['30chunks', 'baseline', '750chunks']\n",
    "xlabel = '# of chunks'\n",
    "xticks_label = ['30', '125', '750']\n",
    "plot_title = '# of chunks'\n",
    "\n",
    "plot_results(exp_names, xlabel, xticks_label, plot_title)"
   ]
  },
  {
   "cell_type": "code",
   "execution_count": null,
   "metadata": {},
   "outputs": [],
   "source": []
  }
 ],
 "metadata": {
  "kernelspec": {
   "display_name": "Python 3",
   "language": "python",
   "name": "python3"
  },
  "language_info": {
   "codemirror_mode": {
    "name": "ipython",
    "version": 3
   },
   "file_extension": ".py",
   "mimetype": "text/x-python",
   "name": "python",
   "nbconvert_exporter": "python",
   "pygments_lexer": "ipython3",
   "version": "3.7.3"
  }
 },
 "nbformat": 4,
 "nbformat_minor": 2
}
