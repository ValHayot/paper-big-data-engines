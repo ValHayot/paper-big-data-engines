{
 "cells": [
  {
   "cell_type": "code",
   "execution_count": 6,
   "metadata": {},
   "outputs": [],
   "source": [
    "nb_bench = 3\n",
    "col_name = [\"func\", \"start\", \"end\", \"filename\", \"worker\", \"thread\", \"process\"]"
   ]
  },
  {
   "cell_type": "code",
   "execution_count": 13,
   "metadata": {},
   "outputs": [],
   "source": [
    "from math import sqrt\n",
    "import os\n",
    "\n",
    "import numpy as np\n",
    "import matplotlib.pyplot as plt\n",
    "import pandas as pd\n",
    "\n",
    "\n",
    "def plot_results(exp_type, exp_names, xlabel, xticks_label, *, f_out=None):\n",
    "    # Path to result file\n",
    "    spark_file = \"../{0}/data-{1}/results-spark_{0}-{2}.csv\"\n",
    "    dask_bag_file = \"../{0}/data-{1}/results-dask-bag_{0}-{2}.csv\"\n",
    "    dask_delayed_file = \"../{0}/data-{1}/results-dask-delayed_{0}-{2}.csv\"\n",
    "\n",
    "    # Retrieve file name\n",
    "    spark = [\n",
    "        [\n",
    "            pd.read_csv(\n",
    "                spark_file.format(exp_type, nth_bench, exp_name), names=col_name\n",
    "            ).end.max()\n",
    "            for nth_bench in range(1, nb_bench + 1)\n",
    "            if os.path.exists(spark_file.format(exp_type, nth_bench, exp_name))\n",
    "        ]\n",
    "        for exp_name in exp_names\n",
    "    ]\n",
    "\n",
    "    dask_bag = [\n",
    "        [\n",
    "            pd.read_csv(\n",
    "                dask_bag_file.format(exp_type, nth_bench, exp_name), names=col_name\n",
    "            ).end.max()\n",
    "            for nth_bench in range(1, nb_bench + 1)\n",
    "            if os.path.exists(dask_bag_file.format(exp_type, nth_bench, exp_name))\n",
    "        ]\n",
    "        for exp_name in exp_names\n",
    "    ]\n",
    "    \n",
    "    dask_delayed = [\n",
    "        [\n",
    "            pd.read_csv(\n",
    "                dask_delayed_file.format(exp_type, nth_bench, exp_name), names=col_name\n",
    "            ).end.max()\n",
    "            for nth_bench in range(1, nb_bench + 1)\n",
    "            if os.path.exists(dask_delayed_file.format(exp_type, nth_bench, exp_name))\n",
    "        ]\n",
    "        for exp_name in exp_names\n",
    "    ]\n",
    "\n",
    "    # Calculate statistics\n",
    "    spark_stat = {\n",
    "        \"mean\": list(map(np.mean, spark)),\n",
    "        \"std\": list(map(np.std, spark))\n",
    "    }\n",
    "    dask_bag_stat = {\n",
    "        \"mean\": list(map(np.mean, dask_bag)),\n",
    "        \"std\": list(map(np.std, dask_bag)),\n",
    "    }\n",
    "    dask_delayed_stat = {\n",
    "        \"mean\": list(map(np.mean, dask_delayed)),\n",
    "        \"std\": list(map(np.std, dask_delayed)),\n",
    "    }\n",
    "\n",
    "    # Generate plot\n",
    "    fig, ax = plt.subplots(figsize=(10, 5))\n",
    "\n",
    "    barWidth = 0.15\n",
    "\n",
    "    # Set position of bar on X axis\n",
    "    r1 = np.arange(len(spark))\n",
    "    r2 = [x + barWidth for x in r1]\n",
    "    r3 = [x + barWidth for x in r2]\n",
    "\n",
    "    plt.bar(\n",
    "        r1,\n",
    "        spark_stat[\"mean\"],\n",
    "        yerr=spark_stat[\"std\"],\n",
    "        color=\"blue\",\n",
    "        width=barWidth,\n",
    "        edgecolor=\"black\",\n",
    "        alpha=0.66,\n",
    "        label=\"Spark\",\n",
    "    )\n",
    "    plt.bar(\n",
    "        r2,\n",
    "        dask_bag_stat[\"mean\"],\n",
    "        yerr=dask_bag_stat[\"std\"],\n",
    "        color=\"crimson\",\n",
    "        width=barWidth,\n",
    "        edgecolor=\"black\",\n",
    "        alpha=0.66,\n",
    "        label=\"Dask Bag\",\n",
    "    )\n",
    "    plt.bar(\n",
    "        r3,\n",
    "        dask_delayed_stat[\"mean\"],\n",
    "        yerr=dask_delayed_stat[\"std\"],\n",
    "        color=\"orange\",\n",
    "        width=barWidth,\n",
    "        edgecolor=\"black\",\n",
    "        alpha=0.66,\n",
    "        label=\"Dask Delayed\",\n",
    "    )\n",
    "\n",
    "    # Add xticks on the middle of the group bars\n",
    "    plt.xlabel(xlabel, fontweight=\"bold\")\n",
    "    plt.xticks([r + barWidth for r in range(len(spark))], xticks_label)\n",
    "    plt.ylabel(\"Makespan\")\n",
    "    plt.ylim([0,11000])\n",
    "\n",
    "    plt.legend(loc=\"upper right\", bbox_to_anchor=(1.2, 1.02))\n",
    "    \n",
    "    if f_out:\n",
    "        plt.savefig(\"./figures/\"+f_out, bbox_inches='tight')\n",
    "        \n",
    "    plt.show()"
   ]
  },
  {
   "cell_type": "code",
   "execution_count": 14,
   "metadata": {},
   "outputs": [
    {
     "data": {
      "image/png": "[encoded data removed]",
      "text/plain": [
       "<Figure size 720x360 with 1 Axes>"
      ]
     },
     "metadata": {
      "needs_background": "light"
     },
     "output_type": "display_data"
    }
   ],
   "source": [
    "exp_type = \"histogram\"\n",
    "exp_names = [\"1node\", \"2node\", \"4node\", \"baseline\"]\n",
    "xlabel = \"# of worker\"\n",
    "xticks_label = [\"1\", \"2\", \"4\", \"8\"]\n",
    "f_out = \"histo_worker.png\"\n",
    "\n",
    "plot_results(exp_type, exp_names, xlabel, xticks_label, f_out=f_out)"
   ]
  },
  {
   "cell_type": "code",
   "execution_count": 15,
   "metadata": {},
   "outputs": [
    {
     "data": {
      "image/png": "[encoded data removed]",
      "text/plain": [
       "<Figure size 720x360 with 1 Axes>"
      ]
     },
     "metadata": {
      "needs_background": "light"
     },
     "output_type": "display_data"
    }
   ],
   "source": [
    "exp_type = \"histogram\"\n",
    "exp_names = [\"30chunks\", \"baseline\", \"750chunks\"]\n",
    "xlabel = \"# of block\"\n",
    "xticks_label = [\"30\\n(2.5GB ea.)\", \"125\\n(0.6GB ea.)\", \"750\\n(0.1GB ea.)\"]\n",
    "f_out = \"histo_block.png\"\n",
    "\n",
    "plot_results(exp_type, exp_names, xlabel, xticks_label, f_out=f_out)"
   ]
  },
  {
   "cell_type": "code",
   "execution_count": null,
   "metadata": {},
   "outputs": [],
   "source": []
  }
 ],
 "metadata": {
  "kernelspec": {
   "display_name": "Python 3",
   "language": "python",
   "name": "python3"
  },
  "language_info": {
   "codemirror_mode": {
    "name": "ipython",
    "version": 3
   },
   "file_extension": ".py",
   "mimetype": "text/x-python",
   "name": "python",
   "nbconvert_exporter": "python",
   "pygments_lexer": "ipython3",
   "version": "3.7.3"
  }
 },
 "nbformat": 4,
 "nbformat_minor": 2
}
