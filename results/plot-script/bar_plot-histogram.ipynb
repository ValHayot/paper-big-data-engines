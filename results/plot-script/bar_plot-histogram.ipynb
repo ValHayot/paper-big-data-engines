{
 "cells": [
  {
   "cell_type": "code",
   "execution_count": 9,
   "metadata": {},
   "outputs": [],
   "source": [
    "nb_bench = 5\n",
    "col_name = [\"func\", \"start\", \"end\", \"filename\", \"worker\", \"thread\", \"process\""
   ]
  },
  {
   "cell_type": "code",
   "execution_count": 16,
   "metadata": {},
   "outputs": [],
   "source": [
    "from math import sqrt\n",
    "import os\n",
    "\n",
    "import numpy as np\n",
    "import matplotlib.pyplot as plt\n",
    "import pandas as pd\n",
    "\n",
    "\n",
    "def plot_results(exp_type, exp_names, xlabel, xticks_label):\n",
    "    # Path to result file\n",
    "    spark_file = \"../{0}/data-{1}/results-spark_{0}-{2}.csv\"\n",
    "    dask_bag_file = \"../{0}/data-{1}/results-dask-bag_{0}-{2}.csv\"\n",
    "\n",
    "    # Retrieve file name\n",
    "    spark = [\n",
    "        [\n",
    "            pd.read_csv(\n",
    "                spark_file.format(exp_type, nth_bench, exp_name), names=col_name\n",
    "            ).end.max()\n",
    "            for nth_bench in range(1, nb_bench + 1)\n",
    "            if os.path.exists(spark_file.format(exp_type, nth_bench, exp_name))\n",
    "        ]\n",
    "        for exp_name in exp_names\n",
    "    ]\n",
    "\n",
    "    dask_bag = [\n",
    "        [\n",
    "            pd.read_csv(\n",
    "                dask_bag_file.format(exp_type, nth_bench, exp_name), names=col_name\n",
    "            ).end.max()\n",
    "            for nth_bench in range(1, nb_bench + 1)\n",
    "            if os.path.exists(dask_bag_file.format(exp_type, nth_bench, exp_name))\n",
    "        ]\n",
    "        for exp_name in exp_names\n",
    "    ]\n",
    "\n",
    "    # Calculate statistics\n",
    "    spark_stat = {\"mean\": list(map(np.mean, spark)), \"std\": list(map(np.std, spark))}\n",
    "    dask_bag_stat = {\n",
    "        \"mean\": list(map(np.mean, dask_bag)),\n",
    "        \"std\": list(map(np.std, dask_bag)),\n",
    "    }\n",
    "\n",
    "    # Generate plot\n",
    "    fig, ax = plt.subplots(figsize=(10, 5))\n",
    "\n",
    "    barWidth = 0.15\n",
    "\n",
    "    # Set position of bar on X axis\n",
    "    r1 = np.arange(len(spark))\n",
    "    r2 = [x + barWidth for x in r1]\n",
    "\n",
    "    plt.bar(\n",
    "        r1,\n",
    "        spark_stat[\"mean\"],\n",
    "        yerr=spark_stat[\"std\"],\n",
    "        color=\"blue\",\n",
    "        width=barWidth,\n",
    "        edgecolor=\"black\",\n",
    "        alpha=0.66,\n",
    "        label=\"spark\",\n",
    "    )\n",
    "    plt.bar(\n",
    "        r2,\n",
    "        dask_bag_stat[\"mean\"],\n",
    "        yerr=dask_bag_stat[\"std\"],\n",
    "        color=\"crimson\",\n",
    "        width=barWidth,\n",
    "        edgecolor=\"black\",\n",
    "        alpha=0.66,\n",
    "        label=\"dask.bag\",\n",
    "    )\n",
    "\n",
    "    # Add xticks on the middle of the group bars\n",
    "    plt.xlabel(xlabel, fontweight=\"bold\")\n",
    "    plt.xticks([r + barWidth for r in range(len(spark))], xticks_label)\n",
    "    plt.ylabel(\"Makespan\")\n",
    "\n",
    "    plt.legend(loc=\"upper right\", bbox_to_anchor=(1.2, 1.02))\n",
    "    plt.show()"
   ]
  },
  {
   "cell_type": "code",
   "execution_count": 17,
   "metadata": {},
   "outputs": [
    {
     "data": {
      "image/png": "[encoded data removed]",
      "text/plain": [
       "<Figure size 720x360 with 1 Axes>"
      ]
     },
     "metadata": {
      "needs_background": "light"
     },
     "output_type": "display_data"
    }
   ],
   "source": [
    "exp_type = \"histogram\"\n",
    "exp_names = [\"1node\", \"2node\", \"4node\", \"baseline\"]\n",
    "xlabel = \"# of nodes\"\n",
    "xticks_label = [\"1 (8 workers)\", \"2 (16 workers)\", \"4 (32 workers)\", \"8 (64 workers)\"]\n",
    "\n",
    "plot_results(exp_type, exp_names, xlabel, xticks_label)"
   ]
  },
  {
   "cell_type": "code",
   "execution_count": 18,
   "metadata": {},
   "outputs": [
    {
     "data": {
      "image/png": "[encoded data removed]",
      "text/plain": [
       "<Figure size 720x360 with 1 Axes>"
      ]
     },
     "metadata": {
      "needs_background": "light"
     },
     "output_type": "display_data"
    }
   ],
   "source": [
    "exp_type = \"inc\"\n",
    "exp_names = [\"30chunks\", \"baseline\", \"750chunks\"]\n",
    "xlabel = \"# of splits\"\n",
    "xticks_label = [\"30 (2.5GB)\", \"125 (0.6GB)\", \"750 (0.1GB)\"]\n",
    "\n",
    "plot_results(exp_type, exp_names, xlabel, xticks_label)"
   ]
  },
  {
   "cell_type": "code",
   "execution_count": null,
   "metadata": {},
   "outputs": [],
   "source": []
  }
 ],
 "metadata": {
  "kernelspec": {
   "display_name": "Python 3",
   "language": "python",
   "name": "python3"
  },
  "language_info": {
   "codemirror_mode": {
    "name": "ipython",
    "version": 3
   },
   "file_extension": ".py",
   "mimetype": "text/x-python",
   "name": "python",
   "nbconvert_exporter": "python",
   "pygments_lexer": "ipython3",
   "version": "3.7.3"
  }
 },
 "nbformat": 4,
 "nbformat_minor": 2
}
